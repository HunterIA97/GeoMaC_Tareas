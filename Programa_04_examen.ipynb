{
 "cells": [
  {
   "cell_type": "code",
   "execution_count": 5,
   "metadata": {},
   "outputs": [],
   "source": [
    "#Programa que calcula los errores relativo y absoluto entre dos números"
   ]
  },
  {
   "cell_type": "code",
   "execution_count": 6,
   "metadata": {},
   "outputs": [
    {
     "name": "stdout",
     "output_type": "stream",
     "text": [
      "el error absoluto es:  0.0012644892673496777\n",
      "el error relativo es:  0.0004024994347707008\n",
      "\n",
      "el error absoluto es:  26.465794806703343\n",
      "el error relativo es:  0.0012015452253326688\n",
      "\n",
      "el error absoluto es:  14.544268632989315\n",
      "el error relativo es:  0.010497822704619136\n",
      "\n",
      "el error absoluto es:  3343.1271580516477\n",
      "el error relativo es:  0.009212762230080598\n",
      "\n"
     ]
    }
   ],
   "source": [
    "import numpy as np\n",
    "#a)\n",
    "p=np.pi\n",
    "pa=22/7\n",
    "EA=np.fabs(p-pa)\n",
    "ER=EA/np.fabs(p)\n",
    "print(\"el error absoluto es: \",EA)\n",
    "print(\"el error relativo es: \",ER)\n",
    "print(\"\")\n",
    "\n",
    "#b)\n",
    "p=np.e**10\n",
    "pa=22000\n",
    "EA=np.fabs(p-pa)\n",
    "ER=EA/np.fabs(p)\n",
    "print(\"el error absoluto es: \",EA)\n",
    "print(\"el error relativo es: \",ER)\n",
    "print(\"\")\n",
    "\n",
    "#c)\n",
    "p=10**np.pi\n",
    "pa=1400\n",
    "EA=np.fabs(p-pa)\n",
    "ER=EA/np.fabs(p)\n",
    "print(\"el error absoluto es: \",EA)\n",
    "print(\"el error relativo es: \",ER)\n",
    "print(\"\")\n",
    "\n",
    "#d)\n",
    "p=np.math.factorial(9)\n",
    "pa=np.sqrt(18*np.pi)*(9/np.e)**9\n",
    "EA=np.fabs(p-pa)\n",
    "ER=EA/np.fabs(p)\n",
    "print(\"el error absoluto es: \",EA)\n",
    "print(\"el error relativo es: \",ER)\n",
    "print(\"\")"
   ]
  },
  {
   "cell_type": "code",
   "execution_count": null,
   "metadata": {},
   "outputs": [],
   "source": []
  }
 ],
 "metadata": {
  "kernelspec": {
   "display_name": "Python 3",
   "language": "python",
   "name": "python3"
  },
  "language_info": {
   "codemirror_mode": {
    "name": "ipython",
    "version": 3
   },
   "file_extension": ".py",
   "mimetype": "text/x-python",
   "name": "python",
   "nbconvert_exporter": "python",
   "pygments_lexer": "ipython3",
   "version": "3.8.5"
  }
 },
 "nbformat": 4,
 "nbformat_minor": 4
}
