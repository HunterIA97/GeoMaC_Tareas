{
 "cells": [
  {
   "cell_type": "code",
   "execution_count": null,
   "metadata": {},
   "outputs": [],
   "source": [
    "#Programa para conocer cual de los dos métodos ( a o b) realiza una mejor aproximación)"
   ]
  },
  {
   "cell_type": "code",
   "execution_count": 10,
   "metadata": {},
   "outputs": [
    {
     "name": "stdout",
     "output_type": "stream",
     "text": [
      "el valor para el metodo a es:  -1.827105379188711\n",
      "el valor para el metodo b es:  0.006959452863649537\n",
      "el valor real de e elevado a la -5 es:  0.006737946999085469\n",
      "el mejor metodo para aproximar es el metodo b con una diferencia de:  0.00022150586456406822\n"
     ]
    }
   ],
   "source": [
    "import numpy as np\n",
    "sumaA=0\n",
    "sumaB=0\n",
    "totalB=0\n",
    "e5=np.e**-5\n",
    "for i in range(0,10):\n",
    "    sumaA=sumaA+(((-1)**i)*(5**i))/(np.math.factorial(i))\n",
    "    sumaB=sumaB+((5**i))/(np.math.factorial(i))\n",
    "totalB=1/sumaB\n",
    "print(\"el valor para el metodo a es: \",sumaA)\n",
    "print(\"el valor para el metodo b es: \",totalB)\n",
    "print(\"el valor real de e elevado a la -5 es: \",e5)\n",
    "errorA=np.fabs(e5-sumaA)\n",
    "errorB=np.fabs(e5-totalB)\n",
    "if (errorA<errorB):\n",
    "    print(\"el mejor metodo para aproximar es el metodo a con una diferencia de: \",errorA)\n",
    "else:\n",
    "    print(\"el mejor metodo para aproximar es el metodo b con una diferencia de: \",errorB)"
   ]
  },
  {
   "cell_type": "code",
   "execution_count": null,
   "metadata": {},
   "outputs": [],
   "source": []
  }
 ],
 "metadata": {
  "kernelspec": {
   "display_name": "Python 3",
   "language": "python",
   "name": "python3"
  },
  "language_info": {
   "codemirror_mode": {
    "name": "ipython",
    "version": 3
   },
   "file_extension": ".py",
   "mimetype": "text/x-python",
   "name": "python",
   "nbconvert_exporter": "python",
   "pygments_lexer": "ipython3",
   "version": "3.8.5"
  }
 },
 "nbformat": 4,
 "nbformat_minor": 4
}
