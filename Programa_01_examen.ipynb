{
 "cells": [
  {
   "cell_type": "code",
   "execution_count": 1,
   "metadata": {},
   "outputs": [],
   "source": [
    "#Programa que calcula la n mìnima para que el valor de las expresiones a y b sea de 0.0673\n",
    "#López Garrido Josué\n",
    "#Geofísica Matemática y Computacional\n",
    "import numpy as np"
   ]
  },
  {
   "cell_type": "code",
   "execution_count": 2,
   "metadata": {},
   "outputs": [],
   "source": [
    "#Método a)"
   ]
  },
  {
   "cell_type": "code",
   "execution_count": 9,
   "metadata": {},
   "outputs": [
    {
     "name": "stdout",
     "output_type": "stream",
     "text": [
      "El valor mìnimo de n para tener un valor de  0.00673  es:  22\n"
     ]
    }
   ],
   "source": [
    "sumaA=0\n",
    "suma=0\n",
    "limite=0.00673\n",
    "i=0\n",
    "dif=1\n",
    "error=0.00001\n",
    "while round(dif,5)!=error:\n",
    "    suma=(((-1)**i)*(5**i))/(np.math.factorial(i))\n",
    "    sumaA=round(sumaA,5)+round(suma,5)\n",
    "    i=i+1\n",
    "    dif=np.fabs(sumaA-limite)\n",
    "print(\"El valor mìnimo de n para tener un valor de \", limite, \" es: \",i)\n"
   ]
  },
  {
   "cell_type": "code",
   "execution_count": 4,
   "metadata": {},
   "outputs": [],
   "source": [
    "#Método B"
   ]
  },
  {
   "cell_type": "code",
   "execution_count": 10,
   "metadata": {},
   "outputs": [
    {
     "name": "stdout",
     "output_type": "stream",
     "text": [
      "El valor mìnimo de n para tener un valor de  0.00673  es:  14\n"
     ]
    }
   ],
   "source": [
    "sumaB=0\n",
    "suma=0\n",
    "limite=0.00673\n",
    "i=0\n",
    "total=0\n",
    "dif=1\n",
    "error=0.00001\n",
    "while round(dif,5)!=error:\n",
    "    suma=((5**i))/(np.math.factorial(i))\n",
    "    sumaB=round(sumaB,5)+round(suma,5)\n",
    "    total=1/sumaB\n",
    "    i=i+1\n",
    "    dif=np.fabs(round(total,5)-limite)\n",
    "print(\"El valor mìnimo de n para tener un valor de \", limite, \" es: \",i)\n"
   ]
  },
  {
   "cell_type": "code",
   "execution_count": null,
   "metadata": {},
   "outputs": [],
   "source": []
  }
 ],
 "metadata": {
  "kernelspec": {
   "display_name": "Python 3",
   "language": "python",
   "name": "python3"
  },
  "language_info": {
   "codemirror_mode": {
    "name": "ipython",
    "version": 3
   },
   "file_extension": ".py",
   "mimetype": "text/x-python",
   "name": "python",
   "nbconvert_exporter": "python",
   "pygments_lexer": "ipython3",
   "version": "3.8.5"
  }
 },
 "nbformat": 4,
 "nbformat_minor": 4
}
