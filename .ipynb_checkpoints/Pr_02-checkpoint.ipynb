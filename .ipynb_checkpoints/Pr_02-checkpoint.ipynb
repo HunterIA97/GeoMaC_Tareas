{
 "cells": [
  {
   "cell_type": "code",
   "execution_count": 8,
   "metadata": {},
   "outputs": [
    {
     "name": "stdout",
     "output_type": "stream",
     "text": [
      "agragar a3\n",
      "agragar b1\n",
      "la suma de 3 + 1  es igual a  4\n"
     ]
    }
   ],
   "source": [
    "#Programa que calcula suma\n",
    "a=int(input(\"agragar a\"))\n",
    "b=int(input(\"agragar b\"))\n",
    "c=a+b\n",
    "print(\"la suma de\",a,\"+\",b,\" es igual a \",c)\n"
   ]
  },
  {
   "cell_type": "code",
   "execution_count": null,
   "metadata": {},
   "outputs": [],
   "source": []
  }
 ],
 "metadata": {
  "kernelspec": {
   "display_name": "Python 3",
   "language": "python",
   "name": "python3"
  },
  "language_info": {
   "codemirror_mode": {
    "name": "ipython",
    "version": 3
   },
   "file_extension": ".py",
   "mimetype": "text/x-python",
   "name": "python",
   "nbconvert_exporter": "python",
   "pygments_lexer": "ipython3",
   "version": "3.8.5"
  }
 },
 "nbformat": 4,
 "nbformat_minor": 4
}
